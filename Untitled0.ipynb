{
  "nbformat": 4,
  "nbformat_minor": 0,
  "metadata": {
    "colab": {
      "provenance": [],
      "authorship_tag": "ABX9TyO9M58VU4tOF9sc6AQeCwxh",
      "include_colab_link": true
    },
    "kernelspec": {
      "name": "python3",
      "display_name": "Python 3"
    },
    "language_info": {
      "name": "python"
    }
  },
  "cells": [
    {
      "cell_type": "markdown",
      "metadata": {
        "id": "view-in-github",
        "colab_type": "text"
      },
      "source": [
        "<a href=\"https://colab.research.google.com/github/flin10/data-science-bootcamp/blob/main/Untitled0.ipynb\" target=\"_parent\"><img src=\"https://colab.research.google.com/assets/colab-badge.svg\" alt=\"Open In Colab\"/></a>"
      ]
    },
    {
      "cell_type": "code",
      "execution_count": null,
      "metadata": {
        "colab": {
          "base_uri": "https://localhost:8080/"
        },
        "id": "z9xDqELdj2w4",
        "outputId": "3ffe0250-6555-4fca-a869-60598d869170"
      },
      "outputs": [
        {
          "output_type": "stream",
          "name": "stdout",
          "text": [
            "[0, 1, 1, 2, 3, 5, 8, 13, 21, 34]\n"
          ]
        }
      ],
      "source": [
        "def fibonacci_series(n):\n",
        "    fib_series = [0, 1]  # Initialize first two terms\n",
        "    for i in range(2, n):\n",
        "        fib_series.append(fib_series[-1] + fib_series[-2])  # Generate next terms\n",
        "    return fib_series[:n]  # Return only n terms\n",
        "\n",
        "# Display Fibonacci series up to 10 terms\n",
        "fib_series_10 = fibonacci_series(10)\n",
        "\n",
        "# Print result\n",
        "print(fib_series_10)"
      ]
    },
    {
      "cell_type": "code",
      "source": [
        "def odd_index_elements(lst):\n",
        "    return [lst[i] for i in range(1, len(lst), 2)]  # Extract elements at odd indices\n",
        "\n",
        "# Sample list to extract odd index elements\n",
        "sample_list = [10, 20, 30, 40, 50, 60, 70, 80, 90, 100]\n",
        "\n",
        "# Get elements at odd indices\n",
        "odd_indexed_numbers = odd_index_elements(sample_list)\n",
        "\n",
        "# Print result\n",
        "print(\"Numbers at odd indices:\", odd_indexed_numbers)"
      ],
      "metadata": {
        "colab": {
          "base_uri": "https://localhost:8080/"
        },
        "id": "SvktJym9rG06",
        "outputId": "3ad45fba-2af0-4879-cb4b-62b7f4b7f851"
      },
      "execution_count": null,
      "outputs": [
        {
          "output_type": "stream",
          "name": "stdout",
          "text": [
            "Numbers at odd indices: [20, 40, 60, 80, 100]\n"
          ]
        }
      ]
    },
    {
      "cell_type": "code",
      "source": [
        "# string = \"\"\" I have provided this text to provide tips on creating interesting paragraphs.\n",
        "\n",
        "# First, start with a clear topic sentence that introduces the main idea.\n",
        "\n",
        "# Then, support the topic sentence with specific details, examples, and evidence.\n",
        "\n",
        "# Vary the sentence length and structure to keep the reader engaged.\n",
        "\n",
        "# Finally, end with a strong concluding sentence that summarizes the main points.\n",
        "\n",
        "# Remember, practice makes perfect!\"\"\"\n",
        "# The number of different (unique) words in the extracted text is 55."
      ],
      "metadata": {
        "id": "KHPA5f0bpCgN"
      },
      "execution_count": null,
      "outputs": []
    },
    {
      "cell_type": "code",
      "source": [
        "# example_word = \"education\"\n",
        "# vowel_count = count_vowels(example_word)\n",
        "# print(vowel_count)  # Output: 5"
      ],
      "metadata": {
        "id": "K1yuep2TzUHT"
      },
      "execution_count": null,
      "outputs": []
    },
    {
      "cell_type": "code",
      "source": [
        "# Define the list of animals\n",
        "animals = ['tiger', 'elephant', 'monkey', 'zebra', 'panther']\n",
        "\n",
        "# Iterate through the list and print each animal in uppercase\n",
        "for animal in animals:\n",
        "    print(animal.upper())"
      ],
      "metadata": {
        "colab": {
          "base_uri": "https://localhost:8080/"
        },
        "id": "hK-qMuc52mvm",
        "outputId": "8812c944-9612-489f-a01e-f0118a288e72"
      },
      "execution_count": null,
      "outputs": [
        {
          "output_type": "stream",
          "name": "stdout",
          "text": [
            "TIGER\n",
            "ELEPHANT\n",
            "MONKEY\n",
            "ZEBRA\n",
            "PANTHER\n"
          ]
        }
      ]
    },
    {
      "cell_type": "code",
      "source": [
        "for num in range(1, 21):\n",
        "    if num % 2 == 0:\n",
        "        print(f\"{num} - Even\")\n",
        "    else:\n",
        "        print(f\"{num} - Odd\")"
      ],
      "metadata": {
        "colab": {
          "base_uri": "https://localhost:8080/"
        },
        "id": "YLasUSKYoZ4K",
        "outputId": "e32a51fc-7f25-4df5-a223-2ee02578f7d8"
      },
      "execution_count": null,
      "outputs": [
        {
          "output_type": "stream",
          "name": "stdout",
          "text": [
            "1 - Odd\n",
            "2 - Even\n",
            "3 - Odd\n",
            "4 - Even\n",
            "5 - Odd\n",
            "6 - Even\n",
            "7 - Odd\n",
            "8 - Even\n",
            "9 - Odd\n",
            "10 - Even\n",
            "11 - Odd\n",
            "12 - Even\n",
            "13 - Odd\n",
            "14 - Even\n",
            "15 - Odd\n",
            "16 - Even\n",
            "17 - Odd\n",
            "18 - Even\n",
            "19 - Odd\n",
            "20 - Even\n"
          ]
        }
      ]
    },
    {
      "cell_type": "code",
      "source": [
        "# Function to return the sum of two integers\n",
        "def sum_of_integers(a, b):\n",
        "    return a + b\n",
        "\n",
        "# Example usage with user input\n",
        "a = int(input(\"Enter the first integer: \"))\n",
        "b = int(input(\"Enter the second integer: \"))\n",
        "\n",
        "# Calculate and display the sum\n",
        "print(\"The sum is:\", sum_of_integers(a, b))"
      ],
      "metadata": {
        "colab": {
          "base_uri": "https://localhost:8080/"
        },
        "id": "dHRbOMUsp_wb",
        "outputId": "12129636-f97e-4c2a-92d7-45880e053ad8"
      },
      "execution_count": null,
      "outputs": [
        {
          "output_type": "stream",
          "name": "stdout",
          "text": [
            "Enter the first integer: 5\n",
            "Enter the second integer: 8\n",
            "The sum is: 13\n"
          ]
        }
      ]
    }
  ]
}