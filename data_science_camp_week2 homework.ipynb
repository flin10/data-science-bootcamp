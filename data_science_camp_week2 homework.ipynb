{
  "nbformat": 4,
  "nbformat_minor": 0,
  "metadata": {
    "colab": {
      "provenance": [],
      "authorship_tag": "ABX9TyOAs0oNDMc8i4Iv9ECTK8NJ",
      "include_colab_link": true
    },
    "kernelspec": {
      "name": "python3",
      "display_name": "Python 3"
    },
    "language_info": {
      "name": "python"
    }
  },
  "cells": [
    {
      "cell_type": "markdown",
      "metadata": {
        "id": "view-in-github",
        "colab_type": "text"
      },
      "source": [
        "<a href=\"https://colab.research.google.com/github/flin10/data-science-bootcamp/blob/main/data_science_camp_week2%20homework.ipynb\" target=\"_parent\"><img src=\"https://colab.research.google.com/assets/colab-badge.svg\" alt=\"Open In Colab\"/></a>"
      ]
    },
    {
      "cell_type": "code",
      "execution_count": null,
      "metadata": {
        "colab": {
          "base_uri": "https://localhost:8080/"
        },
        "id": "8qt91I9TAhBn",
        "outputId": "74a1abe5-93d6-4427-f299-676b556ef9e4"
      },
      "outputs": [
        {
          "output_type": "stream",
          "name": "stdout",
          "text": [
            "Vertical Stack:\n",
            " [[ 1  2  3  4  5  6  7  8  9 10]\n",
            " [ 5  6  7  8  9 10 11 12 13 14]]\n",
            "Horizontal Stack:\n",
            " [ 1  2  3  4  5  6  7  8  9 10  5  6  7  8  9 10 11 12 13 14]\n"
          ]
        }
      ],
      "source": [
        "import numpy as np\n",
        "\n",
        "# Load the iris dataset (first 4 columns are numeric)\n",
        "iris_2d = np.genfromtxt('https://archive.ics.uci.edu/ml/machine-learning-databases/iris/iris.data',\n",
        "                        delimiter=',', usecols=[0,1,2,3])\n",
        "# 1. Define two custom numpy arrays, A and B\n",
        "A = np.array([1, 2, 3, 4, 5, 6, 7, 8, 9, 10])\n",
        "B = np.array([5, 6, 7, 8, 9, 10, 11, 12, 13, 14])\n",
        "\n",
        "# Stack A and B vertically and horizontally\n",
        "vertical_stack = np.vstack((A, B))\n",
        "horizontal_stack = np.hstack((A, B))\n",
        "\n",
        "print(\"Vertical Stack:\\n\", vertical_stack)\n",
        "print(\"Horizontal Stack:\\n\", horizontal_stack)"
      ]
    },
    {
      "cell_type": "code",
      "source": [
        "# 2. Find common elements between A and B\n",
        "common_elements = np.intersect1d(A, B)\n",
        "print(\"Common Elements:\", common_elements)"
      ],
      "metadata": {
        "colab": {
          "base_uri": "https://localhost:8080/"
        },
        "id": "lRPpF4MmGZgP",
        "outputId": "83a8fe0c-51c8-4620-eb78-8d9d416d1132"
      },
      "execution_count": null,
      "outputs": [
        {
          "output_type": "stream",
          "name": "stdout",
          "text": [
            "Common Elements: [ 5  6  7  8  9 10]\n"
          ]
        }
      ]
    },
    {
      "cell_type": "code",
      "source": [
        "# 3. Extract all numbers from A within a specific range (5 to 10)\n",
        "filtered_A = A[(A >= 5) & (A <= 10)]\n",
        "print(\"Filtered A (between 5 and 10):\", filtered_A)"
      ],
      "metadata": {
        "colab": {
          "base_uri": "https://localhost:8080/"
        },
        "id": "G7PqGv1UH3Uv",
        "outputId": "1c44dda3-da2e-4e50-94e9-80865f337b6d"
      },
      "execution_count": null,
      "outputs": [
        {
          "output_type": "stream",
          "name": "stdout",
          "text": [
            "Filtered A (between 5 and 10): [ 5  6  7  8  9 10]\n"
          ]
        }
      ]
    },
    {
      "cell_type": "code",
      "source": [
        "# 4. Filter rows of iris_2d where petallength (3rd column) > 1.5 and sepallength (1st column) < 5.0\n",
        "filtered_iris = iris_2d[(iris_2d[:, 2] > 1.5) & (iris_2d[:, 0] < 5.0)]\n",
        "print(\"Filtered iris_2d:\\n\", filtered_iris)"
      ],
      "metadata": {
        "colab": {
          "base_uri": "https://localhost:8080/"
        },
        "id": "tZkRTwqUH6t4",
        "outputId": "59f9deb1-9acd-47e6-b364-097977df2055"
      },
      "execution_count": null,
      "outputs": [
        {
          "output_type": "stream",
          "name": "stdout",
          "text": [
            "Filtered iris_2d:\n",
            " [[4.8 3.4 1.6 0.2]\n",
            " [4.8 3.4 1.9 0.2]\n",
            " [4.7 3.2 1.6 0.2]\n",
            " [4.8 3.1 1.6 0.2]\n",
            " [4.9 2.4 3.3 1. ]\n",
            " [4.9 2.5 4.5 1.7]]\n"
          ]
        }
      ]
    },
    {
      "cell_type": "code",
      "source": [
        "import pandas as pd\n",
        "\n",
        "# Load the dataset from the given URL\n",
        "df = pd.read_csv('https://raw.githubusercontent.com/selva86/datasets/master/Cars93_miss.csv')\n",
        "\n",
        "# Filter the 'Manufacturer', 'Model' and 'Type' columns for every 20th row starting from the 1st row (index 0)\n",
        "filtered_df = df.loc[::20, ['Manufacturer', 'Model', 'Type']]\n",
        "\n",
        "# Display the result\n",
        "print(filtered_df)"
      ],
      "metadata": {
        "colab": {
          "base_uri": "https://localhost:8080/"
        },
        "id": "mmkNkPoOIpGK",
        "outputId": "600cd307-1453-4d47-f1ea-5315cd13eb7c"
      },
      "execution_count": null,
      "outputs": [
        {
          "output_type": "stream",
          "name": "stdout",
          "text": [
            "   Manufacturer    Model     Type\n",
            "0         Acura  Integra    Small\n",
            "20     Chrysler  LeBaron  Compact\n",
            "40        Honda  Prelude   Sporty\n",
            "60      Mercury   Cougar  Midsize\n",
            "80       Subaru   Loyale    Small\n"
          ]
        }
      ]
    },
    {
      "cell_type": "code",
      "source": [
        "import pandas as pd\n",
        "# Load the dataset (assuming the extracted dataset is available in csv_data)\n",
        "import io\n",
        "# Assuming you have the CSV data in a variable called 'raw_csv_data'\n",
        "raw_csv_data = \"\"\"\n",
        "# Paste your CSV data here\n",
        "\"\"\"\n",
        "# Now, create the StringIO object\n",
        "data_io = io.StringIO(raw_csv_data)\n",
        "df = pd.read_csv(data_io)\n",
        "# Replace missing values in 'Min.Price' and 'Max.Price' with their respective mean values\n",
        "\n",
        "# df['Max.Price'].fillna(df['Max.Price'].mean(), inplace=True)\n",
        "# Display the updated dataframe\n",
        "# import ace_tools as tools\n",
        "# tools.display_dataframe_to_user(name=\"Updated Data with Missing Values Replaced\", dataframe=df)"
      ],
      "metadata": {
        "id": "tqHP2QtqW1Qh"
      },
      "execution_count": null,
      "outputs": []
    },
    {
      "cell_type": "code",
      "source": [
        "import pandas as pd\n",
        "import numpy as np\n",
        "\n",
        "# Create a DataFrame with random integers\n",
        "df = pd.DataFrame(np.random.randint(10, 40, (15, 4)))  # Adjusting shape to match the example\n",
        "\n",
        "# Filter rows where the sum of values in a row is greater than 100\n",
        "filtered_df = df[df.sum(axis=1) > 100]\n",
        "\n",
        "# Display the filtered DataFrame\n",
        "\n"
      ],
      "metadata": {
        "id": "DPnwpu6YaIet"
      },
      "execution_count": null,
      "outputs": []
    }
  ]
}