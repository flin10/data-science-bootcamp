{
 "cells": [
  {
   "cell_type": "code",
   "execution_count": 8,
   "id": "ed29abda-982b-4f1c-ae33-9c2e059d9f24",
   "metadata": {},
   "outputs": [
    {
     "name": "stdout",
     "output_type": "stream",
     "text": [
      "Total number of orders completed on 18th March 2023: 3\n"
     ]
    }
   ],
   "source": [
    "import pandas as pd\n",
    "\n",
    "# Define SALES data manually (from your SQL inserts)\n",
    "sales_data = [\n",
    "    {'Date': '2024-03-01', 'Order_id': 1001, 'Item_id': 1, 'Customer_id': 1, 'Quantity': 2, 'Revenue': 2400.00},\n",
    "    {'Date': '2024-03-05', 'Order_id': 1002, 'Item_id': 2, 'Customer_id': 1, 'Quantity': 1, 'Revenue': 800.00},\n",
    "    {'Date': '2024-03-10', 'Order_id': 1003, 'Item_id': 3, 'Customer_id': 3, 'Quantity': 3, 'Revenue': 300.00},\n",
    "    {'Date': '2024-03-15', 'Order_id': 1004, 'Item_id': 4, 'Customer_id': 1, 'Quantity': 5, 'Revenue': 500.00},\n",
    "    {'Date': '2024-03-20', 'Order_id': 1005, 'Item_id': 5, 'Customer_id': 2, 'Quantity': 2, 'Revenue': 100.00},\n",
    "    {'Date': '2023-03-18', 'Order_id': 1006, 'Item_id': 1, 'Customer_id': 2, 'Quantity': 2, 'Revenue': 2400.00},\n",
    "    {'Date': '2023-03-18', 'Order_id': 1007, 'Item_id': 2, 'Customer_id': 1, 'Quantity': 1, 'Revenue': 800.00},\n",
    "    {'Date': '2023-03-18', 'Order_id': 1008, 'Item_id': 3, 'Customer_id': 3, 'Quantity': 3, 'Revenue': 300.00},\n",
    "]\n",
    "\n",
    "# Create DataFrame\n",
    "sales_df = pd.DataFrame(sales_data)\n",
    "\n",
    "# Convert 'Date' column to datetime format\n",
    "sales_df['Date'] = pd.to_datetime(sales_df['Date'])\n",
    "\n",
    "# Filter for 18th March 2023\n",
    "target_date = pd.Timestamp('2023-03-18')\n",
    "orders_on_target_date = sales_df[sales_df['Date'] == target_date]\n",
    "\n",
    "# Count number of orders\n",
    "order_count = len(orders_on_target_date)\n",
    "\n",
    "print(f\"Total number of orders completed on 18th March 2023: {order_count}\")\n",
    "\n"
   ]
  },
  {
   "cell_type": "code",
   "execution_count": 10,
   "id": "60836b24-cf96-4e47-9479-90a510aedaff",
   "metadata": {},
   "outputs": [
    {
     "name": "stdout",
     "output_type": "stream",
     "text": [
      "Total number of orders completed on 18th March 2023 by John Doe: 1\n"
     ]
    }
   ],
   "source": [
    "import pandas as pd\n",
    "\n",
    "# Define CUSTOMERS data\n",
    "customers_data = [\n",
    "    {'Customer_id': 1, 'First_name': 'John', 'Last_name': 'Doe', 'Address': '123 Main St, Anytown, USA'},\n",
    "    {'Customer_id': 2, 'First_name': 'Jane', 'Last_name': 'Smith', 'Address': '456 Elm St, Othertown, USA'},\n",
    "    {'Customer_id': 3, 'First_name': 'Alice', 'Last_name': 'Johnson', 'Address': '789 Maple St, Yetanothertown, USA'},\n",
    "]\n",
    "\n",
    "# Define SALES data\n",
    "sales_data = [\n",
    "    {'Date': '2024-03-01', 'Order_id': 1001, 'Item_id': 1, 'Customer_id': 1, 'Quantity': 2, 'Revenue': 2400.00},\n",
    "    {'Date': '2024-03-05', 'Order_id': 1002, 'Item_id': 2, 'Customer_id': 1, 'Quantity': 1, 'Revenue': 800.00},\n",
    "    {'Date': '2024-03-10', 'Order_id': 1003, 'Item_id': 3, 'Customer_id': 3, 'Quantity': 3, 'Revenue': 300.00},\n",
    "    {'Date': '2024-03-15', 'Order_id': 1004, 'Item_id': 4, 'Customer_id': 1, 'Quantity': 5, 'Revenue': 500.00},\n",
    "    {'Date': '2024-03-20', 'Order_id': 1005, 'Item_id': 5, 'Customer_id': 2, 'Quantity': 2, 'Revenue': 100.00},\n",
    "    {'Date': '2023-03-18', 'Order_id': 1006, 'Item_id': 1, 'Customer_id': 2, 'Quantity': 2, 'Revenue': 2400.00},\n",
    "    {'Date': '2023-03-18', 'Order_id': 1007, 'Item_id': 2, 'Customer_id': 1, 'Quantity': 1, 'Revenue': 800.00},\n",
    "    {'Date': '2023-03-18', 'Order_id': 1008, 'Item_id': 3, 'Customer_id': 3, 'Quantity': 3, 'Revenue': 300.00},\n",
    "]\n",
    "\n",
    "# Create DataFrames\n",
    "customers_df = pd.DataFrame(customers_data)\n",
    "sales_df = pd.DataFrame(sales_data)\n",
    "\n",
    "# Convert 'Date' to datetime\n",
    "sales_df['Date'] = pd.to_datetime(sales_df['Date'])\n",
    "\n",
    "# Merge SALES and CUSTOMERS\n",
    "merged_df = pd.merge(sales_df, customers_df, on='Customer_id')\n",
    "\n",
    "# Filter by date and customer name\n",
    "target_date = pd.Timestamp('2023-03-18')\n",
    "filtered_df = merged_df[\n",
    "    (merged_df['Date'] == target_date) &\n",
    "    (merged_df['First_name'] == 'John') &\n",
    "    (merged_df['Last_name'] == 'Doe')\n",
    "]\n",
    "\n",
    "# Count the matching orders\n",
    "order_count = len(filtered_df)\n",
    "\n",
    "print(f\"Total number of orders completed on 18th March 2023 by John Doe: {order_count}\")\n"
   ]
  },
  {
   "cell_type": "code",
   "execution_count": 12,
   "id": "23445562-b3a6-4575-bdb6-000fa96f77bb",
   "metadata": {},
   "outputs": [
    {
     "name": "stdout",
     "output_type": "stream",
     "text": [
      "Average amount spent per customer in March 2023:\n",
      "\n",
      "   Customer_id First_name Last_name  Avg_Cost\n",
      "0            1       John       Doe     800.0\n",
      "1            2       Jane     Smith    2400.0\n",
      "2            3      Alice   Johnson     300.0\n",
      "\n",
      "Total number of customers who purchased in March 2023: 3\n"
     ]
    }
   ],
   "source": [
    "import pandas as pd\n",
    "\n",
    "# Define CUSTOMERS data\n",
    "customers_data = [\n",
    "    {'Customer_id': 1, 'First_name': 'John', 'Last_name': 'Doe', 'Address': '123 Main St, Anytown, USA'},\n",
    "    {'Customer_id': 2, 'First_name': 'Jane', 'Last_name': 'Smith', 'Address': '456 Elm St, Othertown, USA'},\n",
    "    {'Customer_id': 3, 'First_name': 'Alice', 'Last_name': 'Johnson', 'Address': '789 Maple St, Yetanothertown, USA'},\n",
    "]\n",
    "\n",
    "# Define SALES data\n",
    "sales_data = [\n",
    "    {'Date': '2024-03-01', 'Order_id': 1001, 'Item_id': 1, 'Customer_id': 1, 'Quantity': 2, 'Revenue': 2400.00},\n",
    "    {'Date': '2024-03-05', 'Order_id': 1002, 'Item_id': 2, 'Customer_id': 1, 'Quantity': 1, 'Revenue': 800.00},\n",
    "    {'Date': '2024-03-10', 'Order_id': 1003, 'Item_id': 3, 'Customer_id': 3, 'Quantity': 3, 'Revenue': 300.00},\n",
    "    {'Date': '2024-03-15', 'Order_id': 1004, 'Item_id': 4, 'Customer_id': 1, 'Quantity': 5, 'Revenue': 500.00},\n",
    "    {'Date': '2024-03-20', 'Order_id': 1005, 'Item_id': 5, 'Customer_id': 2, 'Quantity': 2, 'Revenue': 100.00},\n",
    "    {'Date': '2023-03-18', 'Order_id': 1006, 'Item_id': 1, 'Customer_id': 2, 'Quantity': 2, 'Revenue': 2400.00},\n",
    "    {'Date': '2023-03-18', 'Order_id': 1007, 'Item_id': 2, 'Customer_id': 1, 'Quantity': 1, 'Revenue': 800.00},\n",
    "    {'Date': '2023-03-18', 'Order_id': 1008, 'Item_id': 3, 'Customer_id': 3, 'Quantity': 3, 'Revenue': 300.00},\n",
    "    {'Date': '2023-01-10', 'Order_id': 1009, 'Item_id': 4, 'Customer_id': 1, 'Quantity': 5, 'Revenue': 100.00},\n",
    "]\n",
    "\n",
    "# Convert to DataFrames\n",
    "customers_df = pd.DataFrame(customers_data)\n",
    "sales_df = pd.DataFrame(sales_data)\n",
    "\n",
    "# Convert Date column to datetime\n",
    "sales_df['Date'] = pd.to_datetime(sales_df['Date'])\n",
    "\n",
    "# Merge SALES with CUSTOMERS\n",
    "merged_df = pd.merge(sales_df, customers_df, on='Customer_id')\n",
    "\n",
    "# Filter for March 2023 purchases\n",
    "march_start = pd.Timestamp('2023-03-01')\n",
    "march_end = pd.Timestamp('2023-03-31')\n",
    "march_purchases = merged_df[(merged_df['Date'] >= march_start) & (merged_df['Date'] <= march_end)]\n",
    "\n",
    "# Group by Customer and calculate average spend\n",
    "avg_spend = march_purchases.groupby(['Customer_id', 'First_name', 'Last_name'])['Revenue'].mean().reset_index()\n",
    "avg_spend.rename(columns={'Revenue': 'Avg_Cost'}, inplace=True)\n",
    "\n",
    "# Print results\n",
    "print(\"Average amount spent per customer in March 2023:\\n\")\n",
    "print(avg_spend)\n",
    "\n",
    "# Print total number of customers\n",
    "total_customers = avg_spend['Customer_id'].nunique()\n",
    "print(f\"\\nTotal number of customers who purchased in March 2023: {total_customers}\")\n"
   ]
  },
  {
   "cell_type": "code",
   "execution_count": 15,
   "id": "c0191206-9084-4d5d-8f57-59dd50a9516a",
   "metadata": {},
   "outputs": [
    {
     "name": "stdout",
     "output_type": "stream",
     "text": [
      "Departments with revenue less than $600 in 2022:\n",
      "\n",
      "  Department  Revenue\n",
      "0   Clothing    270.0\n"
     ]
    }
   ],
   "source": [
    "import pandas as pd\n",
    "\n",
    "# ITEMS data (including department)\n",
    "items_data = [\n",
    "    {'Item_id': 1, 'Item_name': 'Laptop', 'Price': 1200.00, 'Department': 'Electronics'},\n",
    "    {'Item_id': 2, 'Item_name': 'Smartphone', 'Price': 800.00, 'Department': 'Electronics'},\n",
    "    {'Item_id': 3, 'Item_name': 'Headphones', 'Price': 100.00, 'Department': 'Electronics'},\n",
    "    {'Item_id': 4, 'Item_name': 'T-shirt', 'Price': 20.00, 'Department': 'Clothing'},\n",
    "    {'Item_id': 5, 'Item_name': 'Jeans', 'Price': 50.00, 'Department': 'Clothing'},\n",
    "]\n",
    "\n",
    "# SALES data\n",
    "sales_data = [\n",
    "    {'Date': '2022-05-20', 'Item_id': 1, 'Customer_id': 1, 'Quantity': 3, 'Revenue': 3600.00},\n",
    "    {'Date': '2022-06-25', 'Item_id': 2, 'Customer_id': 2, 'Quantity': 2, 'Revenue': 1600.00},\n",
    "    {'Date': '2022-07-30', 'Item_id': 3, 'Customer_id': 3, 'Quantity': 4, 'Revenue': 400.00},\n",
    "    {'Date': '2022-08-05', 'Item_id': 4, 'Customer_id': 1, 'Quantity': 6, 'Revenue': 120.00},\n",
    "    {'Date': '2022-09-10', 'Item_id': 5, 'Customer_id': 2, 'Quantity': 3, 'Revenue': 150.00},\n",
    "]\n",
    "\n",
    "# Create DataFrames\n",
    "items_df = pd.DataFrame(items_data)\n",
    "sales_df = pd.DataFrame(sales_data)\n",
    "\n",
    "# Convert 'Date' to datetime\n",
    "sales_df['Date'] = pd.to_datetime(sales_df['Date'])\n",
    "\n",
    "# Filter sales in 2022\n",
    "sales_2022 = sales_df[(sales_df['Date'] >= '2022-01-01') & (sales_df['Date'] <= '2022-12-31')]\n",
    "\n",
    "# Merge SALES with ITEMS to get department info\n",
    "merged_df = pd.merge(sales_2022, items_df, on='Item_id')\n",
    "\n",
    "# Group by department and sum revenue\n",
    "dept_revenue = merged_df.groupby('Department')['Revenue'].sum().reset_index()\n",
    "\n",
    "# Filter departments with revenue less than $600\n",
    "low_revenue_depts = dept_revenue[dept_revenue['Revenue'] < 600]\n",
    "\n",
    "print(\"Departments with revenue less than $600 in 2022:\\n\")\n",
    "print(low_revenue_depts)\n"
   ]
  },
  {
   "cell_type": "code",
   "execution_count": 17,
   "id": "e0b57b3f-db70-4528-8c2b-be2d094eaf30",
   "metadata": {},
   "outputs": [
    {
     "name": "stdout",
     "output_type": "stream",
     "text": [
      "Maximum revenue generated by a single order: $3600.0\n",
      "Minimum revenue generated by a single order: $100.0\n"
     ]
    }
   ],
   "source": [
    "import pandas as pd\n",
    "\n",
    "# Define SALES data (as previously shared)\n",
    "sales_data = [\n",
    "    {'Date': '2022-05-20', 'Item_id': 1, 'Customer_id': 1, 'Quantity': 3, 'Revenue': 3600.00},\n",
    "    {'Date': '2022-06-25', 'Item_id': 2, 'Customer_id': 2, 'Quantity': 2, 'Revenue': 1600.00},\n",
    "    {'Date': '2022-07-30', 'Item_id': 3, 'Customer_id': 3, 'Quantity': 4, 'Revenue': 400.00},\n",
    "    {'Date': '2022-08-05', 'Item_id': 4, 'Customer_id': 1, 'Quantity': 6, 'Revenue': 120.00},\n",
    "    {'Date': '2022-09-10', 'Item_id': 5, 'Customer_id': 2, 'Quantity': 3, 'Revenue': 150.00},\n",
    "    {'Date': '2023-03-18', 'Item_id': 1, 'Customer_id': 2, 'Quantity': 2, 'Revenue': 2400.00},\n",
    "    {'Date': '2023-03-18', 'Item_id': 2, 'Customer_id': 1, 'Quantity': 1, 'Revenue': 800.00},\n",
    "    {'Date': '2023-03-18', 'Item_id': 3, 'Customer_id': 3, 'Quantity': 3, 'Revenue': 300.00},\n",
    "    {'Date': '2023-01-10', 'Item_id': 4, 'Customer_id': 1, 'Quantity': 5, 'Revenue': 100.00},\n",
    "    {'Date': '2024-03-01', 'Item_id': 1, 'Customer_id': 1, 'Quantity': 2, 'Revenue': 2400.00},\n",
    "]\n",
    "\n",
    "# Create DataFrame\n",
    "sales_df = pd.DataFrame(sales_data)\n",
    "\n",
    "# Calculate max and min revenue\n",
    "max_revenue = sales_df['Revenue'].max()\n",
    "min_revenue = sales_df['Revenue'].min()\n",
    "\n",
    "print(f\"Maximum revenue generated by a single order: ${max_revenue}\")\n",
    "print(f\"Minimum revenue generated by a single order: ${min_revenue}\")\n"
   ]
  },
  {
   "cell_type": "code",
   "execution_count": 19,
   "id": "3a60527c-20b7-4431-b812-38f8261affc3",
   "metadata": {},
   "outputs": [
    {
     "name": "stdout",
     "output_type": "stream",
     "text": [
      "Most lucrative order(s):\n",
      "\n",
      "         Date  Item_id  Customer_id  Quantity  Revenue\n",
      "0  2022-05-20        1            1         3   3600.0\n"
     ]
    }
   ],
   "source": [
    "import pandas as pd\n",
    "\n",
    "# Define SALES data\n",
    "sales_data = [\n",
    "    {'Date': '2022-05-20', 'Item_id': 1, 'Customer_id': 1, 'Quantity': 3, 'Revenue': 3600.00},\n",
    "    {'Date': '2022-06-25', 'Item_id': 2, 'Customer_id': 2, 'Quantity': 2, 'Revenue': 1600.00},\n",
    "    {'Date': '2022-07-30', 'Item_id': 3, 'Customer_id': 3, 'Quantity': 4, 'Revenue': 400.00},\n",
    "    {'Date': '2022-08-05', 'Item_id': 4, 'Customer_id': 1, 'Quantity': 6, 'Revenue': 120.00},\n",
    "    {'Date': '2022-09-10', 'Item_id': 5, 'Customer_id': 2, 'Quantity': 3, 'Revenue': 150.00},\n",
    "    {'Date': '2023-03-18', 'Item_id': 1, 'Customer_id': 2, 'Quantity': 2, 'Revenue': 2400.00},\n",
    "    {'Date': '2023-03-18', 'Item_id': 2, 'Customer_id': 1, 'Quantity': 1, 'Revenue': 800.00},\n",
    "    {'Date': '2023-03-18', 'Item_id': 3, 'Customer_id': 3, 'Quantity': 3, 'Revenue': 300.00},\n",
    "    {'Date': '2023-01-10', 'Item_id': 4, 'Customer_id': 1, 'Quantity': 5, 'Revenue': 100.00},\n",
    "    {'Date': '2024-03-01', 'Item_id': 1, 'Customer_id': 1, 'Quantity': 2, 'Revenue': 2400.00},\n",
    "]\n",
    "\n",
    "# Create DataFrame\n",
    "sales_df = pd.DataFrame(sales_data)\n",
    "\n",
    "# Find max revenue\n",
    "max_revenue = sales_df['Revenue'].max()\n",
    "\n",
    "# Filter orders with the max revenue\n",
    "most_lucrative_orders = sales_df[sales_df['Revenue'] == max_revenue]\n",
    "\n",
    "print(\"Most lucrative order(s):\\n\")\n",
    "print(most_lucrative_orders)\n"
   ]
  }
 ],
 "metadata": {
  "kernelspec": {
   "display_name": "Python [conda env:base] *",
   "language": "python",
   "name": "conda-base-py"
  },
  "language_info": {
   "codemirror_mode": {
    "name": "ipython",
    "version": 3
   },
   "file_extension": ".py",
   "mimetype": "text/x-python",
   "name": "python",
   "nbconvert_exporter": "python",
   "pygments_lexer": "ipython3",
   "version": "3.12.7"
  }
 },
 "nbformat": 4,
 "nbformat_minor": 5
}
