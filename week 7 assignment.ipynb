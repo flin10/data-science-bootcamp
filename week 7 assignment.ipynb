{
 "cells": [
  {
   "cell_type": "code",
   "execution_count": null,
   "id": "f881dc0a-f492-4f6b-8481-8db6b1b52df7",
   "metadata": {},
   "outputs": [],
   "source": [
    "# 1. How do you assess the statistical significance of an insight?\n",
    "# Statistical significance is typically assessed using a p-value.\n",
    "# If p < 0.05 (common threshold), the result is considered statistically significant.\n",
    "\n",
    "# 2. What is the Central Limit Theorem? Explain it. Why is it important?\n",
    "# The Central Limit Theorem states that the sampling distribution of the sample mean \n",
    "# approaches a normal distribution as the sample size increases, regardless of the population's distribution.\n",
    "# Importance: It allows us to use normal distribution-based inference methods even with non-normal data.\n",
    "\n",
    "# 3. What is the statistical power?\n",
    "# Statistical power is the probability of correctly rejecting a false null hypothesis.\n",
    "# Higher power means a higher chance of detecting an effect when it exists (commonly 0.8 or 80%).\n",
    "\n",
    "# 4. How do you control for biases?\n",
    "# Biases can be controlled through randomization, blinding, proper study design, and ensuring representative samples.\n",
    "\n",
    "# 5. What are confounding variables?\n",
    "# Confounding variables are factors that affect both the independent and dependent variables, \n",
    "# potentially misleading the results. They must be accounted for or controlled.\n",
    "\n",
    "# 6. What is A/B testing?\n",
    "# A/B testing is an experiment comparing two versions (A and B) to determine which performs better \n",
    "# based on a defined metric (e.g., conversion rate).\n",
    "\n",
    "# 7. What are confidence intervals?\n",
    "# A confidence interval gives a range of values likely to contain the true population parameter, \n",
    "# usually expressed at a 95% confidence level. "
   ]
  }
 ],
 "metadata": {
  "kernelspec": {
   "display_name": "Python [conda env:base] *",
   "language": "python",
   "name": "conda-base-py"
  },
  "language_info": {
   "codemirror_mode": {
    "name": "ipython",
    "version": 3
   },
   "file_extension": ".py",
   "mimetype": "text/x-python",
   "name": "python",
   "nbconvert_exporter": "python",
   "pygments_lexer": "ipython3",
   "version": "3.12.7"
  }
 },
 "nbformat": 4,
 "nbformat_minor": 5
}
